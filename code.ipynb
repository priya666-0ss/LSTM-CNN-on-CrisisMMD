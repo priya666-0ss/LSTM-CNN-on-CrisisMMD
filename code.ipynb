{
  "nbformat": 4,
  "nbformat_minor": 0,
  "metadata": {
    "colab": {
      "provenance": []
    },
    "kernelspec": {
      "name": "python3",
      "display_name": "Python 3"
    },
    "language_info": {
      "name": "python"
    },
    "accelerator": "GPU",
    "gpuClass": "standard",
    "widgets": {
      "application/vnd.jupyter.widget-state+json": {
        "4a18e5e71e814936a23f338dc54f84b1": {
          "model_module": "@jupyter-widgets/controls",
          "model_name": "HBoxModel",
          "model_module_version": "1.5.0",
          "state": {
            "_dom_classes": [],
            "_model_module": "@jupyter-widgets/controls",
            "_model_module_version": "1.5.0",
            "_model_name": "HBoxModel",
            "_view_count": null,
            "_view_module": "@jupyter-widgets/controls",
            "_view_module_version": "1.5.0",
            "_view_name": "HBoxView",
            "box_style": "",
            "children": [
              "IPY_MODEL_6d155487dba54523ab8b3397c89605ed",
              "IPY_MODEL_263c91c071a346219dde7014281110f9",
              "IPY_MODEL_a5bcece9265a4376bae7b90aef7dded2"
            ],
            "layout": "IPY_MODEL_25e2971e38124da7aa1109ea60af3b81"
          }
        },
        "6d155487dba54523ab8b3397c89605ed": {
          "model_module": "@jupyter-widgets/controls",
          "model_name": "HTMLModel",
          "model_module_version": "1.5.0",
          "state": {
            "_dom_classes": [],
            "_model_module": "@jupyter-widgets/controls",
            "_model_module_version": "1.5.0",
            "_model_name": "HTMLModel",
            "_view_count": null,
            "_view_module": "@jupyter-widgets/controls",
            "_view_module_version": "1.5.0",
            "_view_name": "HTMLView",
            "description": "",
            "description_tooltip": null,
            "layout": "IPY_MODEL_3523c79836fa4c01b1c103149d1fa918",
            "placeholder": "​",
            "style": "IPY_MODEL_e76db63cb9294c00b51def576465c38d",
            "value": "Downloading (…)okenizer_config.json: 100%"
          }
        },
        "263c91c071a346219dde7014281110f9": {
          "model_module": "@jupyter-widgets/controls",
          "model_name": "FloatProgressModel",
          "model_module_version": "1.5.0",
          "state": {
            "_dom_classes": [],
            "_model_module": "@jupyter-widgets/controls",
            "_model_module_version": "1.5.0",
            "_model_name": "FloatProgressModel",
            "_view_count": null,
            "_view_module": "@jupyter-widgets/controls",
            "_view_module_version": "1.5.0",
            "_view_name": "ProgressView",
            "bar_style": "success",
            "description": "",
            "description_tooltip": null,
            "layout": "IPY_MODEL_7067dc8c987f46b5b96ffc5fa28b0450",
            "max": 28,
            "min": 0,
            "orientation": "horizontal",
            "style": "IPY_MODEL_0c703648a2ed4a3d999120d69990d6e5",
            "value": 28
          }
        },
        "a5bcece9265a4376bae7b90aef7dded2": {
          "model_module": "@jupyter-widgets/controls",
          "model_name": "HTMLModel",
          "model_module_version": "1.5.0",
          "state": {
            "_dom_classes": [],
            "_model_module": "@jupyter-widgets/controls",
            "_model_module_version": "1.5.0",
            "_model_name": "HTMLModel",
            "_view_count": null,
            "_view_module": "@jupyter-widgets/controls",
            "_view_module_version": "1.5.0",
            "_view_name": "HTMLView",
            "description": "",
            "description_tooltip": null,
            "layout": "IPY_MODEL_2a28914f6dd3418f89e6e209ad9bad48",
            "placeholder": "​",
            "style": "IPY_MODEL_be325f7bc1f24a6086dc4a6aad552858",
            "value": " 28.0/28.0 [00:00&lt;00:00, 827B/s]"
          }
        },
        "25e2971e38124da7aa1109ea60af3b81": {
          "model_module": "@jupyter-widgets/base",
          "model_name": "LayoutModel",
          "model_module_version": "1.2.0",
          "state": {
            "_model_module": "@jupyter-widgets/base",
            "_model_module_version": "1.2.0",
            "_model_name": "LayoutModel",
            "_view_count": null,
            "_view_module": "@jupyter-widgets/base",
            "_view_module_version": "1.2.0",
            "_view_name": "LayoutView",
            "align_content": null,
            "align_items": null,
            "align_self": null,
            "border": null,
            "bottom": null,
            "display": null,
            "flex": null,
            "flex_flow": null,
            "grid_area": null,
            "grid_auto_columns": null,
            "grid_auto_flow": null,
            "grid_auto_rows": null,
            "grid_column": null,
            "grid_gap": null,
            "grid_row": null,
            "grid_template_areas": null,
            "grid_template_columns": null,
            "grid_template_rows": null,
            "height": null,
            "justify_content": null,
            "justify_items": null,
            "left": null,
            "margin": null,
            "max_height": null,
            "max_width": null,
            "min_height": null,
            "min_width": null,
            "object_fit": null,
            "object_position": null,
            "order": null,
            "overflow": null,
            "overflow_x": null,
            "overflow_y": null,
            "padding": null,
            "right": null,
            "top": null,
            "visibility": null,
            "width": null
          }
        },
        "3523c79836fa4c01b1c103149d1fa918": {
          "model_module": "@jupyter-widgets/base",
          "model_name": "LayoutModel",
          "model_module_version": "1.2.0",
          "state": {
            "_model_module": "@jupyter-widgets/base",
            "_model_module_version": "1.2.0",
            "_model_name": "LayoutModel",
            "_view_count": null,
            "_view_module": "@jupyter-widgets/base",
            "_view_module_version": "1.2.0",
            "_view_name": "LayoutView",
            "align_content": null,
            "align_items": null,
            "align_self": null,
            "border": null,
            "bottom": null,
            "display": null,
            "flex": null,
            "flex_flow": null,
            "grid_area": null,
            "grid_auto_columns": null,
            "grid_auto_flow": null,
            "grid_auto_rows": null,
            "grid_column": null,
            "grid_gap": null,
            "grid_row": null,
            "grid_template_areas": null,
            "grid_template_columns": null,
            "grid_template_rows": null,
            "height": null,
            "justify_content": null,
            "justify_items": null,
            "left": null,
            "margin": null,
            "max_height": null,
            "max_width": null,
            "min_height": null,
            "min_width": null,
            "object_fit": null,
            "object_position": null,
            "order": null,
            "overflow": null,
            "overflow_x": null,
            "overflow_y": null,
            "padding": null,
            "right": null,
            "top": null,
            "visibility": null,
            "width": null
          }
        },
        "e76db63cb9294c00b51def576465c38d": {
          "model_module": "@jupyter-widgets/controls",
          "model_name": "DescriptionStyleModel",
          "model_module_version": "1.5.0",
          "state": {
            "_model_module": "@jupyter-widgets/controls",
            "_model_module_version": "1.5.0",
            "_model_name": "DescriptionStyleModel",
            "_view_count": null,
            "_view_module": "@jupyter-widgets/base",
            "_view_module_version": "1.2.0",
            "_view_name": "StyleView",
            "description_width": ""
          }
        },
        "7067dc8c987f46b5b96ffc5fa28b0450": {
          "model_module": "@jupyter-widgets/base",
          "model_name": "LayoutModel",
          "model_module_version": "1.2.0",
          "state": {
            "_model_module": "@jupyter-widgets/base",
            "_model_module_version": "1.2.0",
            "_model_name": "LayoutModel",
            "_view_count": null,
            "_view_module": "@jupyter-widgets/base",
            "_view_module_version": "1.2.0",
            "_view_name": "LayoutView",
            "align_content": null,
            "align_items": null,
            "align_self": null,
            "border": null,
            "bottom": null,
            "display": null,
            "flex": null,
            "flex_flow": null,
            "grid_area": null,
            "grid_auto_columns": null,
            "grid_auto_flow": null,
            "grid_auto_rows": null,
            "grid_column": null,
            "grid_gap": null,
            "grid_row": null,
            "grid_template_areas": null,
            "grid_template_columns": null,
            "grid_template_rows": null,
            "height": null,
            "justify_content": null,
            "justify_items": null,
            "left": null,
            "margin": null,
            "max_height": null,
            "max_width": null,
            "min_height": null,
            "min_width": null,
            "object_fit": null,
            "object_position": null,
            "order": null,
            "overflow": null,
            "overflow_x": null,
            "overflow_y": null,
            "padding": null,
            "right": null,
            "top": null,
            "visibility": null,
            "width": null
          }
        },
        "0c703648a2ed4a3d999120d69990d6e5": {
          "model_module": "@jupyter-widgets/controls",
          "model_name": "ProgressStyleModel",
          "model_module_version": "1.5.0",
          "state": {
            "_model_module": "@jupyter-widgets/controls",
            "_model_module_version": "1.5.0",
            "_model_name": "ProgressStyleModel",
            "_view_count": null,
            "_view_module": "@jupyter-widgets/base",
            "_view_module_version": "1.2.0",
            "_view_name": "StyleView",
            "bar_color": null,
            "description_width": ""
          }
        },
        "2a28914f6dd3418f89e6e209ad9bad48": {
          "model_module": "@jupyter-widgets/base",
          "model_name": "LayoutModel",
          "model_module_version": "1.2.0",
          "state": {
            "_model_module": "@jupyter-widgets/base",
            "_model_module_version": "1.2.0",
            "_model_name": "LayoutModel",
            "_view_count": null,
            "_view_module": "@jupyter-widgets/base",
            "_view_module_version": "1.2.0",
            "_view_name": "LayoutView",
            "align_content": null,
            "align_items": null,
            "align_self": null,
            "border": null,
            "bottom": null,
            "display": null,
            "flex": null,
            "flex_flow": null,
            "grid_area": null,
            "grid_auto_columns": null,
            "grid_auto_flow": null,
            "grid_auto_rows": null,
            "grid_column": null,
            "grid_gap": null,
            "grid_row": null,
            "grid_template_areas": null,
            "grid_template_columns": null,
            "grid_template_rows": null,
            "height": null,
            "justify_content": null,
            "justify_items": null,
            "left": null,
            "margin": null,
            "max_height": null,
            "max_width": null,
            "min_height": null,
            "min_width": null,
            "object_fit": null,
            "object_position": null,
            "order": null,
            "overflow": null,
            "overflow_x": null,
            "overflow_y": null,
            "padding": null,
            "right": null,
            "top": null,
            "visibility": null,
            "width": null
          }
        },
        "be325f7bc1f24a6086dc4a6aad552858": {
          "model_module": "@jupyter-widgets/controls",
          "model_name": "DescriptionStyleModel",
          "model_module_version": "1.5.0",
          "state": {
            "_model_module": "@jupyter-widgets/controls",
            "_model_module_version": "1.5.0",
            "_model_name": "DescriptionStyleModel",
            "_view_count": null,
            "_view_module": "@jupyter-widgets/base",
            "_view_module_version": "1.2.0",
            "_view_name": "StyleView",
            "description_width": ""
          }
        },
        "f512415dd2a64f238b6ba05105a261ac": {
          "model_module": "@jupyter-widgets/controls",
          "model_name": "HBoxModel",
          "model_module_version": "1.5.0",
          "state": {
            "_dom_classes": [],
            "_model_module": "@jupyter-widgets/controls",
            "_model_module_version": "1.5.0",
            "_model_name": "HBoxModel",
            "_view_count": null,
            "_view_module": "@jupyter-widgets/controls",
            "_view_module_version": "1.5.0",
            "_view_name": "HBoxView",
            "box_style": "",
            "children": [
              "IPY_MODEL_a0bd5ad852434986975dc473d3fcb3e4",
              "IPY_MODEL_52e07793a0004f49aa9107ded76e7bfe",
              "IPY_MODEL_8e1c8f38a983423d802c8cc390164049"
            ],
            "layout": "IPY_MODEL_94914e81e3344ce995903a76bbf08ead"
          }
        },
        "a0bd5ad852434986975dc473d3fcb3e4": {
          "model_module": "@jupyter-widgets/controls",
          "model_name": "HTMLModel",
          "model_module_version": "1.5.0",
          "state": {
            "_dom_classes": [],
            "_model_module": "@jupyter-widgets/controls",
            "_model_module_version": "1.5.0",
            "_model_name": "HTMLModel",
            "_view_count": null,
            "_view_module": "@jupyter-widgets/controls",
            "_view_module_version": "1.5.0",
            "_view_name": "HTMLView",
            "description": "",
            "description_tooltip": null,
            "layout": "IPY_MODEL_0241300a8a914f0689ddd0c72f016f6a",
            "placeholder": "​",
            "style": "IPY_MODEL_83db54e93bd140b0985ede7706aae0fa",
            "value": "Downloading (…)lve/main/config.json: 100%"
          }
        },
        "52e07793a0004f49aa9107ded76e7bfe": {
          "model_module": "@jupyter-widgets/controls",
          "model_name": "FloatProgressModel",
          "model_module_version": "1.5.0",
          "state": {
            "_dom_classes": [],
            "_model_module": "@jupyter-widgets/controls",
            "_model_module_version": "1.5.0",
            "_model_name": "FloatProgressModel",
            "_view_count": null,
            "_view_module": "@jupyter-widgets/controls",
            "_view_module_version": "1.5.0",
            "_view_name": "ProgressView",
            "bar_style": "success",
            "description": "",
            "description_tooltip": null,
            "layout": "IPY_MODEL_1a55d80a86bc4cd8b27d2c8cd3e41a27",
            "max": 570,
            "min": 0,
            "orientation": "horizontal",
            "style": "IPY_MODEL_2bd486abc02341b9b0de834461c82418",
            "value": 570
          }
        },
        "8e1c8f38a983423d802c8cc390164049": {
          "model_module": "@jupyter-widgets/controls",
          "model_name": "HTMLModel",
          "model_module_version": "1.5.0",
          "state": {
            "_dom_classes": [],
            "_model_module": "@jupyter-widgets/controls",
            "_model_module_version": "1.5.0",
            "_model_name": "HTMLModel",
            "_view_count": null,
            "_view_module": "@jupyter-widgets/controls",
            "_view_module_version": "1.5.0",
            "_view_name": "HTMLView",
            "description": "",
            "description_tooltip": null,
            "layout": "IPY_MODEL_fa7e781c6866404ebb48945f1f432271",
            "placeholder": "​",
            "style": "IPY_MODEL_59715a17e11a4766b04742c9a1838489",
            "value": " 570/570 [00:00&lt;00:00, 24.6kB/s]"
          }
        },
        "94914e81e3344ce995903a76bbf08ead": {
          "model_module": "@jupyter-widgets/base",
          "model_name": "LayoutModel",
          "model_module_version": "1.2.0",
          "state": {
            "_model_module": "@jupyter-widgets/base",
            "_model_module_version": "1.2.0",
            "_model_name": "LayoutModel",
            "_view_count": null,
            "_view_module": "@jupyter-widgets/base",
            "_view_module_version": "1.2.0",
            "_view_name": "LayoutView",
            "align_content": null,
            "align_items": null,
            "align_self": null,
            "border": null,
            "bottom": null,
            "display": null,
            "flex": null,
            "flex_flow": null,
            "grid_area": null,
            "grid_auto_columns": null,
            "grid_auto_flow": null,
            "grid_auto_rows": null,
            "grid_column": null,
            "grid_gap": null,
            "grid_row": null,
            "grid_template_areas": null,
            "grid_template_columns": null,
            "grid_template_rows": null,
            "height": null,
            "justify_content": null,
            "justify_items": null,
            "left": null,
            "margin": null,
            "max_height": null,
            "max_width": null,
            "min_height": null,
            "min_width": null,
            "object_fit": null,
            "object_position": null,
            "order": null,
            "overflow": null,
            "overflow_x": null,
            "overflow_y": null,
            "padding": null,
            "right": null,
            "top": null,
            "visibility": null,
            "width": null
          }
        },
        "0241300a8a914f0689ddd0c72f016f6a": {
          "model_module": "@jupyter-widgets/base",
          "model_name": "LayoutModel",
          "model_module_version": "1.2.0",
          "state": {
            "_model_module": "@jupyter-widgets/base",
            "_model_module_version": "1.2.0",
            "_model_name": "LayoutModel",
            "_view_count": null,
            "_view_module": "@jupyter-widgets/base",
            "_view_module_version": "1.2.0",
            "_view_name": "LayoutView",
            "align_content": null,
            "align_items": null,
            "align_self": null,
            "border": null,
            "bottom": null,
            "display": null,
            "flex": null,
            "flex_flow": null,
            "grid_area": null,
            "grid_auto_columns": null,
            "grid_auto_flow": null,
            "grid_auto_rows": null,
            "grid_column": null,
            "grid_gap": null,
            "grid_row": null,
            "grid_template_areas": null,
            "grid_template_columns": null,
            "grid_template_rows": null,
            "height": null,
            "justify_content": null,
            "justify_items": null,
            "left": null,
            "margin": null,
            "max_height": null,
            "max_width": null,
            "min_height": null,
            "min_width": null,
            "object_fit": null,
            "object_position": null,
            "order": null,
            "overflow": null,
            "overflow_x": null,
            "overflow_y": null,
            "padding": null,
            "right": null,
            "top": null,
            "visibility": null,
            "width": null
          }
        },
        "83db54e93bd140b0985ede7706aae0fa": {
          "model_module": "@jupyter-widgets/controls",
          "model_name": "DescriptionStyleModel",
          "model_module_version": "1.5.0",
          "state": {
            "_model_module": "@jupyter-widgets/controls",
            "_model_module_version": "1.5.0",
            "_model_name": "DescriptionStyleModel",
            "_view_count": null,
            "_view_module": "@jupyter-widgets/base",
            "_view_module_version": "1.2.0",
            "_view_name": "StyleView",
            "description_width": ""
          }
        },
        "1a55d80a86bc4cd8b27d2c8cd3e41a27": {
          "model_module": "@jupyter-widgets/base",
          "model_name": "LayoutModel",
          "model_module_version": "1.2.0",
          "state": {
            "_model_module": "@jupyter-widgets/base",
            "_model_module_version": "1.2.0",
            "_model_name": "LayoutModel",
            "_view_count": null,
            "_view_module": "@jupyter-widgets/base",
            "_view_module_version": "1.2.0",
            "_view_name": "LayoutView",
            "align_content": null,
            "align_items": null,
            "align_self": null,
            "border": null,
            "bottom": null,
            "display": null,
            "flex": null,
            "flex_flow": null,
            "grid_area": null,
            "grid_auto_columns": null,
            "grid_auto_flow": null,
            "grid_auto_rows": null,
            "grid_column": null,
            "grid_gap": null,
            "grid_row": null,
            "grid_template_areas": null,
            "grid_template_columns": null,
            "grid_template_rows": null,
            "height": null,
            "justify_content": null,
            "justify_items": null,
            "left": null,
            "margin": null,
            "max_height": null,
            "max_width": null,
            "min_height": null,
            "min_width": null,
            "object_fit": null,
            "object_position": null,
            "order": null,
            "overflow": null,
            "overflow_x": null,
            "overflow_y": null,
            "padding": null,
            "right": null,
            "top": null,
            "visibility": null,
            "width": null
          }
        },
        "2bd486abc02341b9b0de834461c82418": {
          "model_module": "@jupyter-widgets/controls",
          "model_name": "ProgressStyleModel",
          "model_module_version": "1.5.0",
          "state": {
            "_model_module": "@jupyter-widgets/controls",
            "_model_module_version": "1.5.0",
            "_model_name": "ProgressStyleModel",
            "_view_count": null,
            "_view_module": "@jupyter-widgets/base",
            "_view_module_version": "1.2.0",
            "_view_name": "StyleView",
            "bar_color": null,
            "description_width": ""
          }
        },
        "fa7e781c6866404ebb48945f1f432271": {
          "model_module": "@jupyter-widgets/base",
          "model_name": "LayoutModel",
          "model_module_version": "1.2.0",
          "state": {
            "_model_module": "@jupyter-widgets/base",
            "_model_module_version": "1.2.0",
            "_model_name": "LayoutModel",
            "_view_count": null,
            "_view_module": "@jupyter-widgets/base",
            "_view_module_version": "1.2.0",
            "_view_name": "LayoutView",
            "align_content": null,
            "align_items": null,
            "align_self": null,
            "border": null,
            "bottom": null,
            "display": null,
            "flex": null,
            "flex_flow": null,
            "grid_area": null,
            "grid_auto_columns": null,
            "grid_auto_flow": null,
            "grid_auto_rows": null,
            "grid_column": null,
            "grid_gap": null,
            "grid_row": null,
            "grid_template_areas": null,
            "grid_template_columns": null,
            "grid_template_rows": null,
            "height": null,
            "justify_content": null,
            "justify_items": null,
            "left": null,
            "margin": null,
            "max_height": null,
            "max_width": null,
            "min_height": null,
            "min_width": null,
            "object_fit": null,
            "object_position": null,
            "order": null,
            "overflow": null,
            "overflow_x": null,
            "overflow_y": null,
            "padding": null,
            "right": null,
            "top": null,
            "visibility": null,
            "width": null
          }
        },
        "59715a17e11a4766b04742c9a1838489": {
          "model_module": "@jupyter-widgets/controls",
          "model_name": "DescriptionStyleModel",
          "model_module_version": "1.5.0",
          "state": {
            "_model_module": "@jupyter-widgets/controls",
            "_model_module_version": "1.5.0",
            "_model_name": "DescriptionStyleModel",
            "_view_count": null,
            "_view_module": "@jupyter-widgets/base",
            "_view_module_version": "1.2.0",
            "_view_name": "StyleView",
            "description_width": ""
          }
        },
        "e4f0e1b5b5084bd5ae5f5b1104bc5982": {
          "model_module": "@jupyter-widgets/controls",
          "model_name": "HBoxModel",
          "model_module_version": "1.5.0",
          "state": {
            "_dom_classes": [],
            "_model_module": "@jupyter-widgets/controls",
            "_model_module_version": "1.5.0",
            "_model_name": "HBoxModel",
            "_view_count": null,
            "_view_module": "@jupyter-widgets/controls",
            "_view_module_version": "1.5.0",
            "_view_name": "HBoxView",
            "box_style": "",
            "children": [
              "IPY_MODEL_7f7ad52a03ce4661ba723e360417da27",
              "IPY_MODEL_81385d1852e447cfbc7d9dedc8ec81e2",
              "IPY_MODEL_680ef8136b4b4850a303028ac188b26e"
            ],
            "layout": "IPY_MODEL_8ccbe8c2939d425eac37df4cce8432d3"
          }
        },
        "7f7ad52a03ce4661ba723e360417da27": {
          "model_module": "@jupyter-widgets/controls",
          "model_name": "HTMLModel",
          "model_module_version": "1.5.0",
          "state": {
            "_dom_classes": [],
            "_model_module": "@jupyter-widgets/controls",
            "_model_module_version": "1.5.0",
            "_model_name": "HTMLModel",
            "_view_count": null,
            "_view_module": "@jupyter-widgets/controls",
            "_view_module_version": "1.5.0",
            "_view_name": "HTMLView",
            "description": "",
            "description_tooltip": null,
            "layout": "IPY_MODEL_f1858f684b5740d49248e95f03de69b6",
            "placeholder": "​",
            "style": "IPY_MODEL_a8225275d55c41cc8a16ae7f12321db2",
            "value": "Downloading (…)solve/main/vocab.txt: 100%"
          }
        },
        "81385d1852e447cfbc7d9dedc8ec81e2": {
          "model_module": "@jupyter-widgets/controls",
          "model_name": "FloatProgressModel",
          "model_module_version": "1.5.0",
          "state": {
            "_dom_classes": [],
            "_model_module": "@jupyter-widgets/controls",
            "_model_module_version": "1.5.0",
            "_model_name": "FloatProgressModel",
            "_view_count": null,
            "_view_module": "@jupyter-widgets/controls",
            "_view_module_version": "1.5.0",
            "_view_name": "ProgressView",
            "bar_style": "success",
            "description": "",
            "description_tooltip": null,
            "layout": "IPY_MODEL_7ec1a461a6134275b4d3c3fef7cc68a8",
            "max": 231508,
            "min": 0,
            "orientation": "horizontal",
            "style": "IPY_MODEL_e92665a71b074e1ea19c72f58085776d",
            "value": 231508
          }
        },
        "680ef8136b4b4850a303028ac188b26e": {
          "model_module": "@jupyter-widgets/controls",
          "model_name": "HTMLModel",
          "model_module_version": "1.5.0",
          "state": {
            "_dom_classes": [],
            "_model_module": "@jupyter-widgets/controls",
            "_model_module_version": "1.5.0",
            "_model_name": "HTMLModel",
            "_view_count": null,
            "_view_module": "@jupyter-widgets/controls",
            "_view_module_version": "1.5.0",
            "_view_name": "HTMLView",
            "description": "",
            "description_tooltip": null,
            "layout": "IPY_MODEL_e6f786662b1142c89bed016dbfa676d0",
            "placeholder": "​",
            "style": "IPY_MODEL_b9a113d0cad5425ea020354141ad3cfa",
            "value": " 232k/232k [00:00&lt;00:00, 7.77MB/s]"
          }
        },
        "8ccbe8c2939d425eac37df4cce8432d3": {
          "model_module": "@jupyter-widgets/base",
          "model_name": "LayoutModel",
          "model_module_version": "1.2.0",
          "state": {
            "_model_module": "@jupyter-widgets/base",
            "_model_module_version": "1.2.0",
            "_model_name": "LayoutModel",
            "_view_count": null,
            "_view_module": "@jupyter-widgets/base",
            "_view_module_version": "1.2.0",
            "_view_name": "LayoutView",
            "align_content": null,
            "align_items": null,
            "align_self": null,
            "border": null,
            "bottom": null,
            "display": null,
            "flex": null,
            "flex_flow": null,
            "grid_area": null,
            "grid_auto_columns": null,
            "grid_auto_flow": null,
            "grid_auto_rows": null,
            "grid_column": null,
            "grid_gap": null,
            "grid_row": null,
            "grid_template_areas": null,
            "grid_template_columns": null,
            "grid_template_rows": null,
            "height": null,
            "justify_content": null,
            "justify_items": null,
            "left": null,
            "margin": null,
            "max_height": null,
            "max_width": null,
            "min_height": null,
            "min_width": null,
            "object_fit": null,
            "object_position": null,
            "order": null,
            "overflow": null,
            "overflow_x": null,
            "overflow_y": null,
            "padding": null,
            "right": null,
            "top": null,
            "visibility": null,
            "width": null
          }
        },
        "f1858f684b5740d49248e95f03de69b6": {
          "model_module": "@jupyter-widgets/base",
          "model_name": "LayoutModel",
          "model_module_version": "1.2.0",
          "state": {
            "_model_module": "@jupyter-widgets/base",
            "_model_module_version": "1.2.0",
            "_model_name": "LayoutModel",
            "_view_count": null,
            "_view_module": "@jupyter-widgets/base",
            "_view_module_version": "1.2.0",
            "_view_name": "LayoutView",
            "align_content": null,
            "align_items": null,
            "align_self": null,
            "border": null,
            "bottom": null,
            "display": null,
            "flex": null,
            "flex_flow": null,
            "grid_area": null,
            "grid_auto_columns": null,
            "grid_auto_flow": null,
            "grid_auto_rows": null,
            "grid_column": null,
            "grid_gap": null,
            "grid_row": null,
            "grid_template_areas": null,
            "grid_template_columns": null,
            "grid_template_rows": null,
            "height": null,
            "justify_content": null,
            "justify_items": null,
            "left": null,
            "margin": null,
            "max_height": null,
            "max_width": null,
            "min_height": null,
            "min_width": null,
            "object_fit": null,
            "object_position": null,
            "order": null,
            "overflow": null,
            "overflow_x": null,
            "overflow_y": null,
            "padding": null,
            "right": null,
            "top": null,
            "visibility": null,
            "width": null
          }
        },
        "a8225275d55c41cc8a16ae7f12321db2": {
          "model_module": "@jupyter-widgets/controls",
          "model_name": "DescriptionStyleModel",
          "model_module_version": "1.5.0",
          "state": {
            "_model_module": "@jupyter-widgets/controls",
            "_model_module_version": "1.5.0",
            "_model_name": "DescriptionStyleModel",
            "_view_count": null,
            "_view_module": "@jupyter-widgets/base",
            "_view_module_version": "1.2.0",
            "_view_name": "StyleView",
            "description_width": ""
          }
        },
        "7ec1a461a6134275b4d3c3fef7cc68a8": {
          "model_module": "@jupyter-widgets/base",
          "model_name": "LayoutModel",
          "model_module_version": "1.2.0",
          "state": {
            "_model_module": "@jupyter-widgets/base",
            "_model_module_version": "1.2.0",
            "_model_name": "LayoutModel",
            "_view_count": null,
            "_view_module": "@jupyter-widgets/base",
            "_view_module_version": "1.2.0",
            "_view_name": "LayoutView",
            "align_content": null,
            "align_items": null,
            "align_self": null,
            "border": null,
            "bottom": null,
            "display": null,
            "flex": null,
            "flex_flow": null,
            "grid_area": null,
            "grid_auto_columns": null,
            "grid_auto_flow": null,
            "grid_auto_rows": null,
            "grid_column": null,
            "grid_gap": null,
            "grid_row": null,
            "grid_template_areas": null,
            "grid_template_columns": null,
            "grid_template_rows": null,
            "height": null,
            "justify_content": null,
            "justify_items": null,
            "left": null,
            "margin": null,
            "max_height": null,
            "max_width": null,
            "min_height": null,
            "min_width": null,
            "object_fit": null,
            "object_position": null,
            "order": null,
            "overflow": null,
            "overflow_x": null,
            "overflow_y": null,
            "padding": null,
            "right": null,
            "top": null,
            "visibility": null,
            "width": null
          }
        },
        "e92665a71b074e1ea19c72f58085776d": {
          "model_module": "@jupyter-widgets/controls",
          "model_name": "ProgressStyleModel",
          "model_module_version": "1.5.0",
          "state": {
            "_model_module": "@jupyter-widgets/controls",
            "_model_module_version": "1.5.0",
            "_model_name": "ProgressStyleModel",
            "_view_count": null,
            "_view_module": "@jupyter-widgets/base",
            "_view_module_version": "1.2.0",
            "_view_name": "StyleView",
            "bar_color": null,
            "description_width": ""
          }
        },
        "e6f786662b1142c89bed016dbfa676d0": {
          "model_module": "@jupyter-widgets/base",
          "model_name": "LayoutModel",
          "model_module_version": "1.2.0",
          "state": {
            "_model_module": "@jupyter-widgets/base",
            "_model_module_version": "1.2.0",
            "_model_name": "LayoutModel",
            "_view_count": null,
            "_view_module": "@jupyter-widgets/base",
            "_view_module_version": "1.2.0",
            "_view_name": "LayoutView",
            "align_content": null,
            "align_items": null,
            "align_self": null,
            "border": null,
            "bottom": null,
            "display": null,
            "flex": null,
            "flex_flow": null,
            "grid_area": null,
            "grid_auto_columns": null,
            "grid_auto_flow": null,
            "grid_auto_rows": null,
            "grid_column": null,
            "grid_gap": null,
            "grid_row": null,
            "grid_template_areas": null,
            "grid_template_columns": null,
            "grid_template_rows": null,
            "height": null,
            "justify_content": null,
            "justify_items": null,
            "left": null,
            "margin": null,
            "max_height": null,
            "max_width": null,
            "min_height": null,
            "min_width": null,
            "object_fit": null,
            "object_position": null,
            "order": null,
            "overflow": null,
            "overflow_x": null,
            "overflow_y": null,
            "padding": null,
            "right": null,
            "top": null,
            "visibility": null,
            "width": null
          }
        },
        "b9a113d0cad5425ea020354141ad3cfa": {
          "model_module": "@jupyter-widgets/controls",
          "model_name": "DescriptionStyleModel",
          "model_module_version": "1.5.0",
          "state": {
            "_model_module": "@jupyter-widgets/controls",
            "_model_module_version": "1.5.0",
            "_model_name": "DescriptionStyleModel",
            "_view_count": null,
            "_view_module": "@jupyter-widgets/base",
            "_view_module_version": "1.2.0",
            "_view_name": "StyleView",
            "description_width": ""
          }
        },
        "3ac8aa678fd9467e89646bae24102aa8": {
          "model_module": "@jupyter-widgets/controls",
          "model_name": "HBoxModel",
          "model_module_version": "1.5.0",
          "state": {
            "_dom_classes": [],
            "_model_module": "@jupyter-widgets/controls",
            "_model_module_version": "1.5.0",
            "_model_name": "HBoxModel",
            "_view_count": null,
            "_view_module": "@jupyter-widgets/controls",
            "_view_module_version": "1.5.0",
            "_view_name": "HBoxView",
            "box_style": "",
            "children": [
              "IPY_MODEL_d489a368b055481cb558322783950752",
              "IPY_MODEL_c3799187ee044feaaabac601a1900e8f",
              "IPY_MODEL_17b037005cfd4f43a50f91579c854a8f"
            ],
            "layout": "IPY_MODEL_3223f617af8b4af697eab1d30cc72e7a"
          }
        },
        "d489a368b055481cb558322783950752": {
          "model_module": "@jupyter-widgets/controls",
          "model_name": "HTMLModel",
          "model_module_version": "1.5.0",
          "state": {
            "_dom_classes": [],
            "_model_module": "@jupyter-widgets/controls",
            "_model_module_version": "1.5.0",
            "_model_name": "HTMLModel",
            "_view_count": null,
            "_view_module": "@jupyter-widgets/controls",
            "_view_module_version": "1.5.0",
            "_view_name": "HTMLView",
            "description": "",
            "description_tooltip": null,
            "layout": "IPY_MODEL_0a430375aaca41aeb3df5616acf20dc8",
            "placeholder": "​",
            "style": "IPY_MODEL_7dbc08804b134f5991e8d43d2c2ca6b8",
            "value": "Downloading (…)/main/tokenizer.json: 100%"
          }
        },
        "c3799187ee044feaaabac601a1900e8f": {
          "model_module": "@jupyter-widgets/controls",
          "model_name": "FloatProgressModel",
          "model_module_version": "1.5.0",
          "state": {
            "_dom_classes": [],
            "_model_module": "@jupyter-widgets/controls",
            "_model_module_version": "1.5.0",
            "_model_name": "FloatProgressModel",
            "_view_count": null,
            "_view_module": "@jupyter-widgets/controls",
            "_view_module_version": "1.5.0",
            "_view_name": "ProgressView",
            "bar_style": "success",
            "description": "",
            "description_tooltip": null,
            "layout": "IPY_MODEL_fab93546bdf140fb8bb0fbde007b76ae",
            "max": 466062,
            "min": 0,
            "orientation": "horizontal",
            "style": "IPY_MODEL_3f879f6cdead4b429f9eb6b066117f7e",
            "value": 466062
          }
        },
        "17b037005cfd4f43a50f91579c854a8f": {
          "model_module": "@jupyter-widgets/controls",
          "model_name": "HTMLModel",
          "model_module_version": "1.5.0",
          "state": {
            "_dom_classes": [],
            "_model_module": "@jupyter-widgets/controls",
            "_model_module_version": "1.5.0",
            "_model_name": "HTMLModel",
            "_view_count": null,
            "_view_module": "@jupyter-widgets/controls",
            "_view_module_version": "1.5.0",
            "_view_name": "HTMLView",
            "description": "",
            "description_tooltip": null,
            "layout": "IPY_MODEL_e7e669f3b38f4b7990f2c984f425a589",
            "placeholder": "​",
            "style": "IPY_MODEL_9b167ebe13844844b9aa7deff15b0504",
            "value": " 466k/466k [00:00&lt;00:00, 2.80MB/s]"
          }
        },
        "3223f617af8b4af697eab1d30cc72e7a": {
          "model_module": "@jupyter-widgets/base",
          "model_name": "LayoutModel",
          "model_module_version": "1.2.0",
          "state": {
            "_model_module": "@jupyter-widgets/base",
            "_model_module_version": "1.2.0",
            "_model_name": "LayoutModel",
            "_view_count": null,
            "_view_module": "@jupyter-widgets/base",
            "_view_module_version": "1.2.0",
            "_view_name": "LayoutView",
            "align_content": null,
            "align_items": null,
            "align_self": null,
            "border": null,
            "bottom": null,
            "display": null,
            "flex": null,
            "flex_flow": null,
            "grid_area": null,
            "grid_auto_columns": null,
            "grid_auto_flow": null,
            "grid_auto_rows": null,
            "grid_column": null,
            "grid_gap": null,
            "grid_row": null,
            "grid_template_areas": null,
            "grid_template_columns": null,
            "grid_template_rows": null,
            "height": null,
            "justify_content": null,
            "justify_items": null,
            "left": null,
            "margin": null,
            "max_height": null,
            "max_width": null,
            "min_height": null,
            "min_width": null,
            "object_fit": null,
            "object_position": null,
            "order": null,
            "overflow": null,
            "overflow_x": null,
            "overflow_y": null,
            "padding": null,
            "right": null,
            "top": null,
            "visibility": null,
            "width": null
          }
        },
        "0a430375aaca41aeb3df5616acf20dc8": {
          "model_module": "@jupyter-widgets/base",
          "model_name": "LayoutModel",
          "model_module_version": "1.2.0",
          "state": {
            "_model_module": "@jupyter-widgets/base",
            "_model_module_version": "1.2.0",
            "_model_name": "LayoutModel",
            "_view_count": null,
            "_view_module": "@jupyter-widgets/base",
            "_view_module_version": "1.2.0",
            "_view_name": "LayoutView",
            "align_content": null,
            "align_items": null,
            "align_self": null,
            "border": null,
            "bottom": null,
            "display": null,
            "flex": null,
            "flex_flow": null,
            "grid_area": null,
            "grid_auto_columns": null,
            "grid_auto_flow": null,
            "grid_auto_rows": null,
            "grid_column": null,
            "grid_gap": null,
            "grid_row": null,
            "grid_template_areas": null,
            "grid_template_columns": null,
            "grid_template_rows": null,
            "height": null,
            "justify_content": null,
            "justify_items": null,
            "left": null,
            "margin": null,
            "max_height": null,
            "max_width": null,
            "min_height": null,
            "min_width": null,
            "object_fit": null,
            "object_position": null,
            "order": null,
            "overflow": null,
            "overflow_x": null,
            "overflow_y": null,
            "padding": null,
            "right": null,
            "top": null,
            "visibility": null,
            "width": null
          }
        },
        "7dbc08804b134f5991e8d43d2c2ca6b8": {
          "model_module": "@jupyter-widgets/controls",
          "model_name": "DescriptionStyleModel",
          "model_module_version": "1.5.0",
          "state": {
            "_model_module": "@jupyter-widgets/controls",
            "_model_module_version": "1.5.0",
            "_model_name": "DescriptionStyleModel",
            "_view_count": null,
            "_view_module": "@jupyter-widgets/base",
            "_view_module_version": "1.2.0",
            "_view_name": "StyleView",
            "description_width": ""
          }
        },
        "fab93546bdf140fb8bb0fbde007b76ae": {
          "model_module": "@jupyter-widgets/base",
          "model_name": "LayoutModel",
          "model_module_version": "1.2.0",
          "state": {
            "_model_module": "@jupyter-widgets/base",
            "_model_module_version": "1.2.0",
            "_model_name": "LayoutModel",
            "_view_count": null,
            "_view_module": "@jupyter-widgets/base",
            "_view_module_version": "1.2.0",
            "_view_name": "LayoutView",
            "align_content": null,
            "align_items": null,
            "align_self": null,
            "border": null,
            "bottom": null,
            "display": null,
            "flex": null,
            "flex_flow": null,
            "grid_area": null,
            "grid_auto_columns": null,
            "grid_auto_flow": null,
            "grid_auto_rows": null,
            "grid_column": null,
            "grid_gap": null,
            "grid_row": null,
            "grid_template_areas": null,
            "grid_template_columns": null,
            "grid_template_rows": null,
            "height": null,
            "justify_content": null,
            "justify_items": null,
            "left": null,
            "margin": null,
            "max_height": null,
            "max_width": null,
            "min_height": null,
            "min_width": null,
            "object_fit": null,
            "object_position": null,
            "order": null,
            "overflow": null,
            "overflow_x": null,
            "overflow_y": null,
            "padding": null,
            "right": null,
            "top": null,
            "visibility": null,
            "width": null
          }
        },
        "3f879f6cdead4b429f9eb6b066117f7e": {
          "model_module": "@jupyter-widgets/controls",
          "model_name": "ProgressStyleModel",
          "model_module_version": "1.5.0",
          "state": {
            "_model_module": "@jupyter-widgets/controls",
            "_model_module_version": "1.5.0",
            "_model_name": "ProgressStyleModel",
            "_view_count": null,
            "_view_module": "@jupyter-widgets/base",
            "_view_module_version": "1.2.0",
            "_view_name": "StyleView",
            "bar_color": null,
            "description_width": ""
          }
        },
        "e7e669f3b38f4b7990f2c984f425a589": {
          "model_module": "@jupyter-widgets/base",
          "model_name": "LayoutModel",
          "model_module_version": "1.2.0",
          "state": {
            "_model_module": "@jupyter-widgets/base",
            "_model_module_version": "1.2.0",
            "_model_name": "LayoutModel",
            "_view_count": null,
            "_view_module": "@jupyter-widgets/base",
            "_view_module_version": "1.2.0",
            "_view_name": "LayoutView",
            "align_content": null,
            "align_items": null,
            "align_self": null,
            "border": null,
            "bottom": null,
            "display": null,
            "flex": null,
            "flex_flow": null,
            "grid_area": null,
            "grid_auto_columns": null,
            "grid_auto_flow": null,
            "grid_auto_rows": null,
            "grid_column": null,
            "grid_gap": null,
            "grid_row": null,
            "grid_template_areas": null,
            "grid_template_columns": null,
            "grid_template_rows": null,
            "height": null,
            "justify_content": null,
            "justify_items": null,
            "left": null,
            "margin": null,
            "max_height": null,
            "max_width": null,
            "min_height": null,
            "min_width": null,
            "object_fit": null,
            "object_position": null,
            "order": null,
            "overflow": null,
            "overflow_x": null,
            "overflow_y": null,
            "padding": null,
            "right": null,
            "top": null,
            "visibility": null,
            "width": null
          }
        },
        "9b167ebe13844844b9aa7deff15b0504": {
          "model_module": "@jupyter-widgets/controls",
          "model_name": "DescriptionStyleModel",
          "model_module_version": "1.5.0",
          "state": {
            "_model_module": "@jupyter-widgets/controls",
            "_model_module_version": "1.5.0",
            "_model_name": "DescriptionStyleModel",
            "_view_count": null,
            "_view_module": "@jupyter-widgets/base",
            "_view_module_version": "1.2.0",
            "_view_name": "StyleView",
            "description_width": ""
          }
        }
      }
    }
  },
  "cells": [
    {
      "cell_type": "code",
      "execution_count": null,
      "metadata": {
        "id": "CykvMNsLeGih"
      },
      "outputs": [],
      "source": []
    },
    {
      "cell_type": "markdown",
      "source": [
        "# LSTM-CNN"
      ],
      "metadata": {
        "id": "Mun8K7WrwB0N"
      }
    },
    {
      "cell_type": "code",
      "execution_count": null,
      "metadata": {
        "colab": {
          "base_uri": "https://localhost:8080/"
        },
        "id": "lKdNZlrI2x_h",
        "outputId": "19a39e81-30e0-457d-f0ee-8ca51767de4c"
      },
      "outputs": [
        {
          "output_type": "stream",
          "name": "stdout",
          "text": [
            "Looking in indexes: https://pypi.org/simple, https://us-python.pkg.dev/colab-wheels/public/simple/\n",
            "Collecting transformers\n",
            "  Downloading transformers-4.28.1-py3-none-any.whl (7.0 MB)\n",
            "\u001b[2K     \u001b[90m━━━━━━━━━━━━━━━━━━━━━━━━━━━━━━━━━━━━━━━━\u001b[0m \u001b[32m7.0/7.0 MB\u001b[0m \u001b[31m84.6 MB/s\u001b[0m eta \u001b[36m0:00:00\u001b[0m\n",
            "\u001b[?25hRequirement already satisfied: numpy>=1.17 in /usr/local/lib/python3.9/dist-packages (from transformers) (1.22.4)\n",
            "Requirement already satisfied: filelock in /usr/local/lib/python3.9/dist-packages (from transformers) (3.11.0)\n",
            "Requirement already satisfied: requests in /usr/local/lib/python3.9/dist-packages (from transformers) (2.27.1)\n",
            "Requirement already satisfied: regex!=2019.12.17 in /usr/local/lib/python3.9/dist-packages (from transformers) (2022.10.31)\n",
            "Requirement already satisfied: pyyaml>=5.1 in /usr/local/lib/python3.9/dist-packages (from transformers) (6.0)\n",
            "Requirement already satisfied: tqdm>=4.27 in /usr/local/lib/python3.9/dist-packages (from transformers) (4.65.0)\n",
            "Collecting tokenizers!=0.11.3,<0.14,>=0.11.1\n",
            "  Downloading tokenizers-0.13.3-cp39-cp39-manylinux_2_17_x86_64.manylinux2014_x86_64.whl (7.8 MB)\n",
            "\u001b[2K     \u001b[90m━━━━━━━━━━━━━━━━━━━━━━━━━━━━━━━━━━━━━━━━\u001b[0m \u001b[32m7.8/7.8 MB\u001b[0m \u001b[31m107.5 MB/s\u001b[0m eta \u001b[36m0:00:00\u001b[0m\n",
            "\u001b[?25hRequirement already satisfied: packaging>=20.0 in /usr/local/lib/python3.9/dist-packages (from transformers) (23.1)\n",
            "Collecting huggingface-hub<1.0,>=0.11.0\n",
            "  Downloading huggingface_hub-0.13.4-py3-none-any.whl (200 kB)\n",
            "\u001b[2K     \u001b[90m━━━━━━━━━━━━━━━━━━━━━━━━━━━━━━━━━━━━━━\u001b[0m \u001b[32m200.1/200.1 kB\u001b[0m \u001b[31m21.1 MB/s\u001b[0m eta \u001b[36m0:00:00\u001b[0m\n",
            "\u001b[?25hRequirement already satisfied: typing-extensions>=3.7.4.3 in /usr/local/lib/python3.9/dist-packages (from huggingface-hub<1.0,>=0.11.0->transformers) (4.5.0)\n",
            "Requirement already satisfied: urllib3<1.27,>=1.21.1 in /usr/local/lib/python3.9/dist-packages (from requests->transformers) (1.26.15)\n",
            "Requirement already satisfied: charset-normalizer~=2.0.0 in /usr/local/lib/python3.9/dist-packages (from requests->transformers) (2.0.12)\n",
            "Requirement already satisfied: idna<4,>=2.5 in /usr/local/lib/python3.9/dist-packages (from requests->transformers) (3.4)\n",
            "Requirement already satisfied: certifi>=2017.4.17 in /usr/local/lib/python3.9/dist-packages (from requests->transformers) (2022.12.7)\n",
            "Installing collected packages: tokenizers, huggingface-hub, transformers\n",
            "Successfully installed huggingface-hub-0.13.4 tokenizers-0.13.3 transformers-4.28.1\n"
          ]
        }
      ],
      "source": [
        "!pip install transformers"
      ]
    },
    {
      "cell_type": "code",
      "execution_count": null,
      "metadata": {
        "colab": {
          "base_uri": "https://localhost:8080/"
        },
        "id": "rLjByQ5T_glH",
        "outputId": "584d88d8-55f8-4401-9036-78671974127e"
      },
      "outputs": [
        {
          "output_type": "stream",
          "name": "stdout",
          "text": [
            "Mounted at drive\n"
          ]
        }
      ],
      "source": [
        "from google.colab import drive\n",
        "drive.mount('drive')"
      ]
    },
    {
      "cell_type": "code",
      "execution_count": null,
      "metadata": {
        "id": "xk7hqDUY_1u_"
      },
      "outputs": [],
      "source": [
        "import pickle\n",
        "import numpy as np\n",
        "import os\n",
        "import torchvision\n",
        "import torch.utils.data\n",
        "import torchvision.transforms as T\n",
        "import matplotlib.pyplot as plt\n",
        "import torch\n",
        "import pandas as pd\n",
        "import torch.nn as nn\n",
        "import torch.optim as optim\n",
        "import torch.nn.functional as F\n",
        "from torchsummary import summary\n",
        "from torchvision import datasets,models\n",
        "from torch.utils.data import random_split,Dataset\n",
        "from torch.utils.data.sampler import SubsetRandomSampler\n",
        "import copy\n",
        "from PIL import Image"
      ]
    },
    {
      "cell_type": "code",
      "execution_count": null,
      "metadata": {
        "colab": {
          "base_uri": "https://localhost:8080/"
        },
        "id": "We6-ZFrqAjBm",
        "outputId": "eaf2ea95-0cc9-48c9-eefa-34a04a32dc32"
      },
      "outputs": [
        {
          "output_type": "stream",
          "name": "stdout",
          "text": [
            "Archive:  dai/CrisisMMD_v2.0/crisismmd_datasplit_all.zip\n",
            "   creating: dai/CrisisMMD_v2.0/crisismmd_datasplit_all/crisismmd_datasplit_all/\n",
            "  inflating: dai/CrisisMMD_v2.0/crisismmd_datasplit_all/__MACOSX/._crisismmd_datasplit_all  \n",
            "  inflating: dai/CrisisMMD_v2.0/crisismmd_datasplit_all/crisismmd_datasplit_all/task_informative_text_img_train.tsv  \n",
            "  inflating: dai/CrisisMMD_v2.0/crisismmd_datasplit_all/__MACOSX/crisismmd_datasplit_all/._task_informative_text_img_train.tsv  \n",
            "  inflating: dai/CrisisMMD_v2.0/crisismmd_datasplit_all/crisismmd_datasplit_all/task_damage_text_img_train.tsv  \n",
            "  inflating: dai/CrisisMMD_v2.0/crisismmd_datasplit_all/__MACOSX/crisismmd_datasplit_all/._task_damage_text_img_train.tsv  \n",
            "  inflating: dai/CrisisMMD_v2.0/crisismmd_datasplit_all/crisismmd_datasplit_all/task_damage_text_img_test.tsv  \n",
            "  inflating: dai/CrisisMMD_v2.0/crisismmd_datasplit_all/crisismmd_datasplit_all/task_informative_text_img_test.tsv  \n",
            "  inflating: dai/CrisisMMD_v2.0/crisismmd_datasplit_all/__MACOSX/crisismmd_datasplit_all/._task_informative_text_img_test.tsv  \n",
            "  inflating: dai/CrisisMMD_v2.0/crisismmd_datasplit_all/crisismmd_datasplit_all/task_damage_text_img_dev.tsv  \n",
            "  inflating: dai/CrisisMMD_v2.0/crisismmd_datasplit_all/crisismmd_datasplit_all/task_informative_text_img_dev.tsv  \n",
            "  inflating: dai/CrisisMMD_v2.0/crisismmd_datasplit_all/__MACOSX/crisismmd_datasplit_all/._task_informative_text_img_dev.tsv  \n",
            "  inflating: dai/CrisisMMD_v2.0/crisismmd_datasplit_all/crisismmd_datasplit_all/task_humanitarian_text_img_test.tsv  \n",
            "  inflating: dai/CrisisMMD_v2.0/crisismmd_datasplit_all/__MACOSX/crisismmd_datasplit_all/._task_humanitarian_text_img_test.tsv  \n",
            "  inflating: dai/CrisisMMD_v2.0/crisismmd_datasplit_all/crisismmd_datasplit_all/Readme.txt  \n",
            "  inflating: dai/CrisisMMD_v2.0/crisismmd_datasplit_all/__MACOSX/crisismmd_datasplit_all/._Readme.txt  \n",
            "  inflating: dai/CrisisMMD_v2.0/crisismmd_datasplit_all/crisismmd_datasplit_all/task_humanitarian_text_img_dev.tsv  \n",
            "  inflating: dai/CrisisMMD_v2.0/crisismmd_datasplit_all/__MACOSX/crisismmd_datasplit_all/._task_humanitarian_text_img_dev.tsv  \n",
            "  inflating: dai/CrisisMMD_v2.0/crisismmd_datasplit_all/crisismmd_datasplit_all/task_humanitarian_text_img_train.tsv  \n",
            "  inflating: dai/CrisisMMD_v2.0/crisismmd_datasplit_all/__MACOSX/crisismmd_datasplit_all/._task_humanitarian_text_img_train.tsv  \n"
          ]
        }
      ],
      "source": [
        "os.makedirs('dai', exist_ok=True)\n",
        "!tar -xzf /content/drive/MyDrive/CrisisMMD_v2.0.tar.gz -C dai\n",
        "!unzip -d dai/CrisisMMD_v2.0/crisismmd_datasplit_all dai/CrisisMMD_v2.0/crisismmd_datasplit_all.zip\n",
        "!rm -rf crisismmd_datasplit_all"
      ]
    },
    {
      "cell_type": "code",
      "execution_count": null,
      "metadata": {
        "colab": {
          "base_uri": "https://localhost:8080/",
          "height": 162,
          "referenced_widgets": [
            "4a18e5e71e814936a23f338dc54f84b1",
            "6d155487dba54523ab8b3397c89605ed",
            "263c91c071a346219dde7014281110f9",
            "a5bcece9265a4376bae7b90aef7dded2",
            "25e2971e38124da7aa1109ea60af3b81",
            "3523c79836fa4c01b1c103149d1fa918",
            "e76db63cb9294c00b51def576465c38d",
            "7067dc8c987f46b5b96ffc5fa28b0450",
            "0c703648a2ed4a3d999120d69990d6e5",
            "2a28914f6dd3418f89e6e209ad9bad48",
            "be325f7bc1f24a6086dc4a6aad552858",
            "f512415dd2a64f238b6ba05105a261ac",
            "a0bd5ad852434986975dc473d3fcb3e4",
            "52e07793a0004f49aa9107ded76e7bfe",
            "8e1c8f38a983423d802c8cc390164049",
            "94914e81e3344ce995903a76bbf08ead",
            "0241300a8a914f0689ddd0c72f016f6a",
            "83db54e93bd140b0985ede7706aae0fa",
            "1a55d80a86bc4cd8b27d2c8cd3e41a27",
            "2bd486abc02341b9b0de834461c82418",
            "fa7e781c6866404ebb48945f1f432271",
            "59715a17e11a4766b04742c9a1838489",
            "e4f0e1b5b5084bd5ae5f5b1104bc5982",
            "7f7ad52a03ce4661ba723e360417da27",
            "81385d1852e447cfbc7d9dedc8ec81e2",
            "680ef8136b4b4850a303028ac188b26e",
            "8ccbe8c2939d425eac37df4cce8432d3",
            "f1858f684b5740d49248e95f03de69b6",
            "a8225275d55c41cc8a16ae7f12321db2",
            "7ec1a461a6134275b4d3c3fef7cc68a8",
            "e92665a71b074e1ea19c72f58085776d",
            "e6f786662b1142c89bed016dbfa676d0",
            "b9a113d0cad5425ea020354141ad3cfa",
            "3ac8aa678fd9467e89646bae24102aa8",
            "d489a368b055481cb558322783950752",
            "c3799187ee044feaaabac601a1900e8f",
            "17b037005cfd4f43a50f91579c854a8f",
            "3223f617af8b4af697eab1d30cc72e7a",
            "0a430375aaca41aeb3df5616acf20dc8",
            "7dbc08804b134f5991e8d43d2c2ca6b8",
            "fab93546bdf140fb8bb0fbde007b76ae",
            "3f879f6cdead4b429f9eb6b066117f7e",
            "e7e669f3b38f4b7990f2c984f425a589",
            "9b167ebe13844844b9aa7deff15b0504"
          ]
        },
        "id": "ir_D2izvGfId",
        "outputId": "33a38fa6-b2ba-41a6-c8cb-f699d0d505a9"
      },
      "outputs": [
        {
          "output_type": "display_data",
          "data": {
            "text/plain": [
              "Downloading (…)okenizer_config.json:   0%|          | 0.00/28.0 [00:00<?, ?B/s]"
            ],
            "application/vnd.jupyter.widget-view+json": {
              "version_major": 2,
              "version_minor": 0,
              "model_id": "4a18e5e71e814936a23f338dc54f84b1"
            }
          },
          "metadata": {}
        },
        {
          "output_type": "display_data",
          "data": {
            "text/plain": [
              "Downloading (…)lve/main/config.json:   0%|          | 0.00/570 [00:00<?, ?B/s]"
            ],
            "application/vnd.jupyter.widget-view+json": {
              "version_major": 2,
              "version_minor": 0,
              "model_id": "f512415dd2a64f238b6ba05105a261ac"
            }
          },
          "metadata": {}
        },
        {
          "output_type": "display_data",
          "data": {
            "text/plain": [
              "Downloading (…)solve/main/vocab.txt:   0%|          | 0.00/232k [00:00<?, ?B/s]"
            ],
            "application/vnd.jupyter.widget-view+json": {
              "version_major": 2,
              "version_minor": 0,
              "model_id": "e4f0e1b5b5084bd5ae5f5b1104bc5982"
            }
          },
          "metadata": {}
        },
        {
          "output_type": "display_data",
          "data": {
            "text/plain": [
              "Downloading (…)/main/tokenizer.json:   0%|          | 0.00/466k [00:00<?, ?B/s]"
            ],
            "application/vnd.jupyter.widget-view+json": {
              "version_major": 2,
              "version_minor": 0,
              "model_id": "3ac8aa678fd9467e89646bae24102aa8"
            }
          },
          "metadata": {}
        },
        {
          "output_type": "execute_result",
          "data": {
            "text/plain": [
              "30522"
            ]
          },
          "metadata": {},
          "execution_count": 5
        }
      ],
      "source": [
        "from transformers import AutoTokenizer, VisualBertForPreTraining\n",
        "tokenizer = AutoTokenizer.from_pretrained('bert-base-uncased')\n",
        "# tokens = tokenizer(tweet, padding=True, return_tensors=\"pt\",truncation=True,max_length=100)\n",
        "# print(np.array(tokens['input_ids']).shape)\n",
        "tokenizer.vocab_size\n"
      ]
    },
    {
      "cell_type": "code",
      "execution_count": null,
      "metadata": {
        "id": "XX7dSqxgAHaK"
      },
      "outputs": [],
      "source": [
        "map={\"california_wildfires\":0,'srilanka_floods':1,'iraq_iran_earthquake':2,'hurricane_harvey':3,'mexico_earthquake':4}\n",
        "class CrisisMMD(Dataset):\n",
        "    def __init__(self, tsv_path, img_dir_path, transform=None):\n",
        "        self.classes = ['california_wildfires', 'srilanka_floods', 'iraq_iran_earthquake', 'hurricane_harvey', 'mexico_earthquake']\n",
        "        data = pd.read_csv(tsv_path, sep='\\t')\n",
        "        data = data[['image', 'event_name', 'tweet_text']]\n",
        "        self.data = data.loc[data['event_name'].isin(self.classes)]\n",
        "        self.transform = transform\n",
        "        self.img_dir_path = img_dir_path\n",
        "\n",
        "    def __len__(self):\n",
        "        return len(self.data)\n",
        "\n",
        "    def __getitem__(self, idx):\n",
        "        if torch.is_tensor(idx):\n",
        "            idx = idx.tolist()\n",
        "        sample = self.data.iloc[idx]\n",
        "        image = Image.open(f\"{self.img_dir_path}/{sample['image']}\")\n",
        "        image = image.convert(\"RGB\")\n",
        "        if self.transform:\n",
        "            image = self.transform(image)\n",
        "        label = map[sample['event_name']]\n",
        "        name_label =sample['event_name']\n",
        "        tweet = sample['tweet_text']\n",
        "        # tokens = tokenizer(tweet, padding=True, return_tensors=\"pt\",truncation=True,max_length=30)\n",
        "        return image, label, name_label,tweet"
      ]
    },
    {
      "cell_type": "code",
      "execution_count": null,
      "metadata": {
        "id": "0gCz6239ANh2"
      },
      "outputs": [],
      "source": [
        "data_dir = r'dai/CrisisMMD_v2.0'\n",
        "tsv_dir = data_dir + r'/crisismmd_datasplit_all/crisismmd_datasplit_all'\n",
        "\n",
        "transform = T.Compose([T.Resize((224, 224)), T.ToTensor(), T.Normalize([0.5, 0.5, 0.5], [0.5, 0.5, 0.5])])\n",
        "\n",
        "train_set = CrisisMMD(f'{tsv_dir}/task_humanitarian_text_img_train.tsv', data_dir, transform=transform)\n",
        "val_set = CrisisMMD(f'{tsv_dir}/task_humanitarian_text_img_dev.tsv', data_dir, transform=transform)\n",
        "test_set = CrisisMMD(f'{tsv_dir}/task_humanitarian_text_img_test.tsv', data_dir, transform=transform)"
      ]
    },
    {
      "cell_type": "code",
      "execution_count": null,
      "metadata": {
        "id": "9bWjNZ8xDKM8"
      },
      "outputs": [],
      "source": [
        "# Define the training and test data loaders\n",
        "def make_loaders(train_set,test_set,batch_size):\n",
        "  trainloader = torch.utils.data.DataLoader(train_set, batch_size=batch_size, shuffle=True)\n",
        "  testloader = torch.utils.data.DataLoader(test_set, batch_size=batch_size, shuffle=True)\n",
        "  return trainloader,testloader"
      ]
    },
    {
      "cell_type": "code",
      "execution_count": null,
      "metadata": {
        "id": "cjmZ6QcMDSAL",
        "colab": {
          "base_uri": "https://localhost:8080/",
          "height": 438
        },
        "outputId": "cc6f4509-34ab-4740-d2eb-f05838c99d8a"
      },
      "outputs": [
        {
          "output_type": "stream",
          "name": "stderr",
          "text": [
            "WARNING:matplotlib.image:Clipping input data to the valid range for imshow with RGB data ([0..1] for floats or [0..255] for integers).\n"
          ]
        },
        {
          "output_type": "stream",
          "name": "stdout",
          "text": [
            "torch.Size([32, 3, 224, 224])\n",
            "('hurricane_harvey', 'hurricane_harvey', 'mexico_earthquake', 'hurricane_harvey', 'hurricane_harvey', 'hurricane_harvey', 'hurricane_harvey', 'california_wildfires', 'mexico_earthquake', 'hurricane_harvey', 'hurricane_harvey', 'hurricane_harvey', 'hurricane_harvey', 'california_wildfires', 'mexico_earthquake', 'mexico_earthquake', 'mexico_earthquake', 'hurricane_harvey', 'california_wildfires', 'hurricane_harvey', 'hurricane_harvey', 'hurricane_harvey', 'hurricane_harvey', 'hurricane_harvey', 'california_wildfires', 'california_wildfires', 'california_wildfires', 'california_wildfires', 'hurricane_harvey', 'california_wildfires', 'hurricane_harvey', 'hurricane_harvey')\n",
            "tensor([3, 3, 4, 3, 3, 3, 3, 0, 4, 3, 3, 3, 3, 0, 4, 4, 4, 3, 0, 3, 3, 3, 3, 3,\n",
            "        0, 0, 0, 0, 3, 0, 3, 3])\n",
            "(\"RT @Micah_McHenry: Harvey destroyed Dairy Treet. I'm officially pissedὡ2 https://t.co/7biA2Xj9vL\", '#bitcoin, Cherch of Blerk, and Brave Volunteers Connect During the Destruction of Hurricane https://t.co/fhsqB9rfz6 https://t.co/gIc7n3rwmn', \"Thousands Homeless as Mexico Quake's Death Toll Tops 300 https://t.co/4iSf2hMv4m https://t.co/t28wYIcQoY\", 'Cleanup from hurricane Harvey by SKMiller https://t.co/hu0SxY5bqn #photography #beautiful https://t.co/7IaKTxZWmM', '#business #expert President Trump signs Hurricane Harvey relief bill https://t.co/WviYtBsXoj #creditrepair #jobs https://t.co/fcARtCUivy', 'Call the Texas Immigrant Rights hotline if you have experienced an instance of hate or discrimination. #SB4 #Harvey https://t.co/yj18b8rEw0', 'Bun B on Hurricane Harvey: â€˜Itâ€™s Worse Than Everyone... https://t.co/ThFzREmyUj #music https://t.co/v4wihGUg40', 'Warriors players will sign tonightâ€™s shooting shirts, will be auctioned off to benefit California wildfire relief https://t.co/lQxibp1YgW', '71km SSW of Paredon, Mexico #earthquake Mag 5.7 - September 24, 2017 - 06:06:12 (10:06:12 GMT) https://t.co/rNkkgm2Uxi', '24 and 48 hour rainfall amounts. And most of this occurred in the last 12 hours. #Harvey #HoustonFlood https://t.co/fywhzgYtYg', 'The boardwalk is hopping this morning! Harvey rains have gone and the sun is starting to shine ! #oceancitynj https://t.co/hJCnTePCzJ', 'One @MWDTSA volunteer (me) helping another for #HurricaneHarvey rescues @austinpetsalive. https://t.co/jlWHMfZlh8', \"steve harvey can't come to the phone right now. why? oh cause he's dead https://t.co/vtB8RZlEUK\", 'Homes And Lives In Ruins In California Wildfires | NBC Nightly News https://t.co/yYtQe1X78g https://t.co/0RaKFkc9VY', '#ColegioRebsamen Operated Legally, Says Delegate in #Tlalpan https://t.co/lnJFSEC7V9 #MexicoEarthquake https://t.co/uu5qJECBJg', \"Denver7 journalist recounts Mexico earthquake first-hand; fund set up for Denver's ... - https://t.co/ii6fNGYKAe https://t.co/26FNS4b8Dd\", 'SEASON OVER???? WE COULD USE ABLE BODIES AT EARTHQUAKE IN MEXICO! DIG IN.... https://t.co/QlnYHtv9AI', '.@georgepbush @txglo talks to our exec committee about state rebuild from #Harvey &amp; prep for future storms. https://t.co/EOY2IOjQwf', 'RT @News12BX: California wildfires kill 10, destroy 1,500 buildings https://t.co/cKLrLVtXMe https://t.co/o1CGcHS57o', \"Harvey's unlikely hero: Meteorologist Jeff Linder https://t.co/hQJ9kpjXje #fakenews #propaganda https://t.co/gVRQZRI7Zd\", 'WH releases pic of trump signing Harvey aid etc into law earlier at Camp David https://t.co/D9nvAOlAgq', 'RT @MikeNash15: @ConnorJRogers Look at Harvey simply embracing it https://t.co/xNctl7GedZ', 'Harvey did next to nothing for Oil in comparison to Katrina https://t.co/t5PRY1F4eF', 'Harvey Aid, Tax Reform Lead Busy Congressional To-Do List | NBC News https://t.co/x8NLPPL7B3 https://t.co/6QWVf0yY5f', 'RT @TravelLeisure: A pregnant woman biked through California wildfire to save her family https://t.co/wxpWGjdiMI https://t.co/yx0OWh5K3F', 'California Wildfires Evacuees Offered Free Haircuts &amp; ChiropracticÂ Care https://t.co/zwiIyLeqw6 https://t.co/KHVxdwRcB1', 'HOW MANY FIRE FIGHTERS ARE ILLEGAL ALIENS IN CALIFORNIA? JERRY BROWN? USE YOU DEAR LOVED CITIZENS. https://t.co/9Lsj838Plg', 'Devastated Northern California suburb was exempt from fire rules #daily #news https://t.co/SeJtmQC5xv https://t.co/NNmEYdu1XC', 'I ❤️ TEXAS! Hog hunters, private pilots provide airlift to hurricane victims \\u1f1fA\\u1f1f8 https://t.co/mvciqfekU5 https://t.co/6LaRa2pX26', '@DonaldJTrumpJr @DonaldJTrump45 @POTUS So was California.Wild fire w/ trees standing, cars burned w/melted rims B.S. https://t.co/KA28imi98x', \"You can hurt me and try to break me, but I'll always rise and I'll tear you the fuck up like a tornado. https://t.co/aoLAMay9Px\", 'Far From Baseball, Norm Charlton Looks to Rebuild His Hometown After Hurricane Harvey https://t.co/r7NP1v1Wk0 https://t.co/uteOzDElYp')\n"
          ]
        },
        {
          "output_type": "display_data",
          "data": {
            "text/plain": [
              "<Figure size 640x480 with 1 Axes>"
            ],
            "image/png": "[encoded data removed]"
          },
          "metadata": {}
        }
      ],
      "source": [
        "trainloader,testloader=make_loaders(train_set,test_set,32)\n",
        "def imshow(img):\n",
        "    npimg = img.numpy()\n",
        "    plt.imshow(np.transpose(npimg, (1, 2, 0)))\n",
        "\n",
        "\n",
        "dataiter = iter(testloader)\n",
        "images, labels ,name_labels, tweet = next(dataiter)\n",
        "\n",
        "print(images.shape)\n",
        "print(name_labels)\n",
        "print(labels)\n",
        "print(tweet)\n",
        "# show images\n",
        "imshow(torchvision.utils.make_grid(images))"
      ]
    },
    {
      "cell_type": "code",
      "execution_count": null,
      "metadata": {
        "id": "10-12JCIDTZl"
      },
      "outputs": [],
      "source": [
        "device = torch.device(\"cuda\")"
      ]
    },
    {
      "cell_type": "code",
      "execution_count": null,
      "metadata": {
        "id": "DfvGPA1BEXex",
        "colab": {
          "base_uri": "https://localhost:8080/"
        },
        "outputId": "64116e84-5db8-45d2-b791-611b8c6683f8"
      },
      "outputs": [
        {
          "output_type": "stream",
          "name": "stdout",
          "text": [
            "(32, 100)\n",
            "torch.Size([100, 32])\n"
          ]
        }
      ],
      "source": [
        "tokens = tokenizer(tweet, padding=\"max_length\", return_tensors=\"pt\",truncation=True,max_length=100)\n",
        "print(np.array(tokens['input_ids']).shape)\n",
        "\n",
        "\n",
        "final_tweet=torch.tensor(np.array(tokens['input_ids']).T).to(device)\n",
        "print(final_tweet.shape)\n",
        "\n",
        "# print(final_tweet)"
      ]
    },
    {
      "cell_type": "code",
      "execution_count": null,
      "metadata": {
        "id": "2gffZksvEbrj"
      },
      "outputs": [],
      "source": [
        "class Encoder(nn.Module):\n",
        "    def __init__(self, input_size, embedding_size, hidden_size, num_layers, dropout, bidirectional = False):\n",
        "        super(Encoder, self).__init__()\n",
        "        self.hidden_size = hidden_size\n",
        "        self.num_layers = num_layers\n",
        "        self.embedding = nn.Embedding(input_size, embedding_size)\n",
        "        self.lstm = nn.LSTM(embedding_size, hidden_size, num_layers, dropout=dropout, bidirectional=bidirectional)\n",
        "        self.dropout = nn.Dropout(dropout)\n",
        "\n",
        "    def forward(self, x):\n",
        "        # print('encoder---------------------------')\n",
        "        embedding = self.dropout(self.embedding(x))\n",
        "        # print('embed', embedding.shape)\n",
        "        outputs, (hidden, cell) = self.lstm(embedding)\n",
        "        # print(\"outputs\", outputs.shape)\n",
        "        # print(\"hid\", hidden.shape)\n",
        "        # print(\"cell\", cell.shape)\n",
        "        return outputs, hidden, cell"
      ]
    },
    {
      "cell_type": "code",
      "execution_count": null,
      "metadata": {
        "id": "s0N0O5xfoP1S"
      },
      "outputs": [],
      "source": [
        "def getModel():\n",
        "  # Load the pre-trained ResNet18 model\n",
        "  model = models.vgg16(pretrained=True)\n",
        "\n",
        "\n",
        "  # Replace the last fully connected layer to fit our task\n",
        "  num_ftrs = model.classifier[6].in_features\n",
        "  model.classifier[6] = nn.Linear(num_ftrs, 128) \n",
        "  return model"
      ]
    },
    {
      "cell_type": "code",
      "execution_count": null,
      "metadata": {
        "id": "J5esEtErEm1r"
      },
      "outputs": [],
      "source": [
        "class LSTM_CNN(nn.Module):\n",
        "    def __init__(self, encoder,vgg):\n",
        "        super(LSTM_CNN, self).__init__()\n",
        "        self.encoder=encoder\n",
        "        self.vgg=vgg\n",
        "        self.fc= torch.nn.Sequential(\n",
        "                                    torch.nn.Linear(256, 128),\n",
        "                                    torch.nn.ReLU(),\n",
        "                                    torch.nn.Linear(128,64),\n",
        "                                    torch.nn.ReLU(),\n",
        "                                    torch.nn.Linear(64, 32),\n",
        "                                    torch.nn.ReLU(),\n",
        "                                    torch.nn.Linear(32, 5)\n",
        "                                    # torch.nn.Softmax(dim=1)\n",
        "                                    )\n",
        "        \n",
        "    def forward(self,images,tweets):\n",
        "        _,_,text_embedding=self.encoder(tweets)\n",
        "        text_embedding = text_embedding.squeeze(dim=0)\n",
        "        # print(\"=================\",text_embedding.shape)\n",
        "\n",
        "\n",
        "        img_embedding=self.vgg(images)\n",
        "\n",
        "        final=torch.cat((text_embedding,img_embedding), dim=1)\n",
        "\n",
        "        final=self.fc(final)\n",
        "\n",
        "        return final"
      ]
    },
    {
      "cell_type": "code",
      "execution_count": null,
      "metadata": {
        "id": "JeNinDQKEtIY"
      },
      "outputs": [],
      "source": [
        "encoder = Encoder(40000, 1024, 128,1,0)"
      ]
    },
    {
      "cell_type": "code",
      "execution_count": null,
      "metadata": {
        "colab": {
          "base_uri": "https://localhost:8080/"
        },
        "id": "Kjibh6LiEv-0",
        "outputId": "5eee0b40-5d7a-49b1-d110-0fb515315980"
      },
      "outputs": [
        {
          "output_type": "stream",
          "name": "stderr",
          "text": [
            "/usr/local/lib/python3.9/dist-packages/torchvision/models/_utils.py:208: UserWarning: The parameter 'pretrained' is deprecated since 0.13 and may be removed in the future, please use 'weights' instead.\n",
            "  warnings.warn(\n",
            "/usr/local/lib/python3.9/dist-packages/torchvision/models/_utils.py:223: UserWarning: Arguments other than a weight enum or `None` for 'weights' are deprecated since 0.13 and may be removed in the future. The current behavior is equivalent to passing `weights=VGG16_Weights.IMAGENET1K_V1`. You can also use `weights=VGG16_Weights.DEFAULT` to get the most up-to-date weights.\n",
            "  warnings.warn(msg)\n"
          ]
        }
      ],
      "source": [
        "vgg=getModel()\n"
      ]
    },
    {
      "cell_type": "code",
      "execution_count": null,
      "metadata": {
        "id": "_ZncobZrEyYN"
      },
      "outputs": [],
      "source": [
        "model=LSTM_CNN(encoder,vgg).cuda()\n",
        "optimiser = optim.Adam(model.parameters(), lr=0.001)\n"
      ]
    },
    {
      "cell_type": "code",
      "execution_count": null,
      "metadata": {
        "id": "gaYGGgO5E05j"
      },
      "outputs": [],
      "source": [
        "loss_function = torch.nn.CrossEntropyLoss().to(device)\n",
        "def train(epoch,model,optimiser):  # give the epochs, model you want to train and optimiser\n",
        "\n",
        "  trainLoss=[]\n",
        "  testLoss=[] \n",
        "  trainAcc=[]\n",
        "  testAcc=[]\n",
        "  for i in range(epoch):\n",
        "    model.train()\n",
        "    train_loss=0\n",
        "    train_acc=0\n",
        "\n",
        "    for batch_idx,(img, labels ,name_labels, tweet ) in enumerate(trainloader):\n",
        "\n",
        "      img=img.cuda()\n",
        "      # # print(data)\n",
        "      labels = labels.cuda()\n",
        "      # # print(labels)\n",
        "\n",
        "      tokens = tokenizer(tweet,  padding=\"max_length\", return_tensors=\"pt\",truncation=True,max_length=100)\n",
        "\n",
        "      final_tweet=torch.tensor(np.array(tokens['input_ids']).T).cuda()\n",
        "      \n",
        "      optimiser.zero_grad()\n",
        "      output=model(img,final_tweet)\n",
        "      # print(recon_batch)\n",
        "\n",
        "      loss=loss_function(output,labels)\n",
        "\n",
        "      preds = torch.argmax(output, dim=1)\n",
        "      train_acc += sum(preds.detach().cpu().numpy() == labels.detach().cpu().numpy())\n",
        "\n",
        "      # print(loss)\n",
        "      loss.backward()\n",
        "      train_loss+=loss.item()\n",
        "      optimiser.step()\n",
        "\n",
        "      if batch_idx==390 :\n",
        "        print('Train Epoch   {}  : Batch id : {}  '.format(i+1,batch_idx))\n",
        "    \n",
        "\n",
        "    print('======> Epoch :{} Train Loss : {:.6f}'.format(i+1,train_loss/len(trainloader.dataset)))\n",
        "    trl=train_loss/len(trainloader.dataset)\n",
        "    trainLoss.append(trl)\n",
        "    \n",
        "    train_acc = train_acc/len(trainloader.dataset)\n",
        "    print(\"                  Train Accuracy: {:.6f} \".format(train_acc))\n",
        "    trainAcc.append(train_acc)\n",
        "\n",
        "    test_loss,test_acc=test(model)\n",
        "\n",
        "    testLoss.append(test_loss)\n",
        "    testAcc.append(test_acc)\n",
        "\n",
        "  return model,trainLoss,testLoss,trainAcc,testAcc\n",
        "\n",
        "def test(model):\n",
        "  model.eval()\n",
        "  test_loss=0\n",
        "  test_acc=0\n",
        "\n",
        "  with torch.no_grad():\n",
        "    for i,(imag, label ,name_labels, tweet ) in enumerate(testloader):\n",
        "\n",
        "      imag=imag.cuda()\n",
        "      label = label.cuda()\n",
        "      tokens = tokenizer(tweet,padding=\"max_length\", return_tensors=\"pt\",truncation=True,max_length=100)\n",
        "      final_tweet=torch.tensor(np.array(tokens['input_ids']).T).cuda()\n",
        "\n",
        "\n",
        "      output=model(imag,final_tweet)\n",
        "      test_loss+=loss_function(output,label).item()\n",
        "\n",
        "      preds = torch.argmax(output, dim=1)\n",
        "\n",
        "      test_acc += sum(preds.detach().cpu().numpy() == label.detach().cpu().numpy())\n",
        "\n",
        "\n",
        "  test_loss/=len(testloader.dataset)\n",
        "  test_acc/=len(testloader.dataset)\n",
        "\n",
        "\n",
        "  print('=====> Test set loss : {:.6f}'.format(test_loss))\n",
        "  print(\"       Test Accuracy: {:.6f} \".format(test_acc))\n",
        "\n",
        "  return test_loss,test_acc"
      ]
    },
    {
      "cell_type": "code",
      "execution_count": null,
      "metadata": {
        "colab": {
          "base_uri": "https://localhost:8080/"
        },
        "id": "he6k6xQaE52d",
        "outputId": "45611506-8a7a-4595-899f-b8eced3bbc84"
      },
      "outputs": [
        {
          "metadata": {
            "tags": null
          },
          "name": "stderr",
          "output_type": "stream",
          "text": [
            "/usr/local/lib/python3.9/dist-packages/PIL/Image.py:975: UserWarning: Palette images with Transparency expressed in bytes should be converted to RGBA images\n",
            "  warnings.warn(\n"
          ]
        },
        {
          "output_type": "stream",
          "name": "stdout",
          "text": [
            "======> Epoch :1 Train Loss : 0.048942\n",
            "                  Train Accuracy: 0.492979 \n",
            "=====> Test set loss : 0.043628\n",
            "       Test Accuracy: 0.493103 \n",
            "======> Epoch :2 Train Loss : 0.043115\n",
            "                  Train Accuracy: 0.493274 \n",
            "=====> Test set loss : 0.043863\n",
            "       Test Accuracy: 0.493103 \n",
            "======> Epoch :3 Train Loss : 0.031104\n",
            "                  Train Accuracy: 0.601626 \n",
            "=====> Test set loss : 0.022845\n",
            "       Test Accuracy: 0.718103 \n",
            "======> Epoch :4 Train Loss : 0.011500\n",
            "                  Train Accuracy: 0.853659 \n",
            "=====> Test set loss : 0.007388\n",
            "       Test Accuracy: 0.926724 \n",
            "======> Epoch :5 Train Loss : 0.003371\n",
            "                  Train Accuracy: 0.970140 \n",
            "=====> Test set loss : 0.006763\n",
            "       Test Accuracy: 0.935345 \n",
            "======> Epoch :6 Train Loss : 0.001526\n",
            "                  Train Accuracy: 0.988027 \n",
            "=====> Test set loss : 0.005324\n",
            "       Test Accuracy: 0.952586 \n",
            "======> Epoch :7 Train Loss : 0.000993\n",
            "                  Train Accuracy: 0.994087 \n",
            "=====> Test set loss : 0.006598\n",
            "       Test Accuracy: 0.947414 \n",
            "======> Epoch :8 Train Loss : 0.000869\n",
            "                  Train Accuracy: 0.993644 \n",
            "=====> Test set loss : 0.005722\n",
            "       Test Accuracy: 0.955172 \n",
            "======> Epoch :9 Train Loss : 0.000797\n",
            "                  Train Accuracy: 0.993052 \n",
            "=====> Test set loss : 0.005118\n",
            "       Test Accuracy: 0.954310 \n",
            "======> Epoch :10 Train Loss : 0.000712\n",
            "                  Train Accuracy: 0.994235 \n",
            "=====> Test set loss : 0.008402\n",
            "       Test Accuracy: 0.941379 \n"
          ]
        }
      ],
      "source": [
        "model,trainLoss1,testLoss1,trainAcc1,testAcc1=train(10,model,optimiser)"
      ]
    },
    {
      "cell_type": "code",
      "execution_count": null,
      "metadata": {
        "id": "qF1ki0f_E8y2",
        "colab": {
          "base_uri": "https://localhost:8080/",
          "height": 487
        },
        "outputId": "0a2317bc-b9ce-4cc5-8231-0c49bf37676a"
      },
      "outputs": [
        {
          "output_type": "display_data",
          "data": {
            "text/plain": [
              "<Figure size 1000x500 with 1 Axes>"
            ],
            "image/png": "[encoded data removed]"
          },
          "metadata": {}
        }
      ],
      "source": [
        "plt.figure(figsize=(10,5))\n",
        "epochArr=[i for i in range(1,11)]\n",
        "plt.plot(epochArr,trainLoss1)\n",
        "plt.plot(epochArr,testLoss1)\n",
        "plt.xticks(epochArr)\n",
        "plt.xlabel(\"Epochs\")\n",
        "plt.ylabel(\"Loss\")\n",
        "plt.title(\"Loss v/s Epoch \")\n",
        "plt.legend([\"Train loss\",\"Test loss\"])\n",
        "plt.show()"
      ]
    },
    {
      "cell_type": "code",
      "source": [
        "plt.figure(figsize=(10,5))\n",
        "epochArr=[i for i in range(1,11)]\n",
        "plt.plot(epochArr,trainAcc1)\n",
        "plt.plot(epochArr,testAcc1)\n",
        "plt.xticks(epochArr)\n",
        "plt.xlabel(\"Epochs\")\n",
        "plt.ylabel(\"Accuracy\")\n",
        "plt.title(\"Accuracy v/s Epoch \")\n",
        "plt.legend([\"Train Accuracy\",\"Test accuracy\"])\n",
        "plt.show()"
      ],
      "metadata": {
        "colab": {
          "base_uri": "https://localhost:8080/",
          "height": 487
        },
        "id": "-kt2P2lrecM6",
        "outputId": "d8e35566-986b-4fdc-a0b9-b4f75e35602c"
      },
      "execution_count": null,
      "outputs": [
        {
          "output_type": "display_data",
          "data": {
            "text/plain": [
              "<Figure size 1000x500 with 1 Axes>"
            ],
            "image/png": "[encoded data removed]"
          },
          "metadata": {}
        }
      ]
    },
    {
      "cell_type": "code",
      "source": [],
      "metadata": {
        "id": "Di3AGWt1fTuw"
      },
      "execution_count": null,
      "outputs": []
    }
  ]
}